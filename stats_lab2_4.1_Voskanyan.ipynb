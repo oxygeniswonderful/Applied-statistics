{
 "cells": [
  {
   "cell_type": "markdown",
   "id": "ccd7947d",
   "metadata": {},
   "source": [
    "### $P(<start>, w_2,...,<end>) = P(w_2 | <start>) \\cdot P(w_3 | w_2) \\cdot ... \\cdot P(w_{n-1} | <end>)$"
   ]
  },
  {
   "cell_type": "markdown",
   "id": "2be68348",
   "metadata": {},
   "source": [
    "### $P(w_i | w_j) = 0.5, i \\neq n, j \\neq 1$ (Кроме переходов от первого слова и переходов к последнему слову), n -- длина предложений"
   ]
  },
  {
   "cell_type": "markdown",
   "id": "19607f90",
   "metadata": {},
   "source": [
    "### $P = P(w_2 | <start>) \\cdot 0.5^{n-2} \\cdot P(<end> | w_{n-1})$"
   ]
  },
  {
   "cell_type": "markdown",
   "id": "47cf1c9d",
   "metadata": {},
   "source": [
    "### $ P(w_2 | <start>) = 0.14$ всегда, кроме $w_2$ = машинный : $P(машинный | <start>) = 0.29$"
   ]
  },
  {
   "cell_type": "markdown",
   "id": "89b2732c",
   "metadata": {},
   "source": [
    "### $ P = 0.29 \\cdot 0.5^{n-2} \\cdot P(<end> | w_{n-1}) $"
   ]
  },
  {
   "cell_type": "markdown",
   "id": "ddc44158",
   "metadata": {},
   "source": [
    "### $ P(<start> машинное <end>) = 0.29 \\cdot 0.5$ при $n=2$"
   ]
  },
  {
   "cell_type": "markdown",
   "id": "bf5c6e66",
   "metadata": {},
   "source": [
    "### $ P = 0.29 \\cdot 0.5 \\cdot 0.5^{n-2} \\cdot P(<end> | w_{n-1}) \\leq 0.29 \\cdot 0.5 \\cdot 0.5^{n-2} \\leq 0.29 \\cdot 0.5$ при $n > 2$"
   ]
  },
  {
   "cell_type": "markdown",
   "id": "c6e31c9f",
   "metadata": {},
   "source": [
    "### Видим, что если слово \"машинное\" второе в предложении, то наиболее вероятным предложением является $<start> машинное <end>$"
   ]
  },
  {
   "cell_type": "markdown",
   "id": "fbf63707",
   "metadata": {},
   "source": [
    "### Иначе $P = 0.14 \\cdot 0.5^{n-2} \\cdot P(<end> | w_{n-1}) \\leq 0.14$, это меньше чем $0.5 \\cdot 0.29 = P(<start> машинное <end>)$, значит наиболее вероятное предложение $P(<start> машинное <end>)$"
   ]
  },
  {
   "cell_type": "markdown",
   "id": "55d7721e",
   "metadata": {},
   "source": [
    "### $ S = \\frac{1}{n} \\sum_{i=1}^{n} log p(w_i | w_{i-1}) = log(\\sqrt[n]{P}) = log(\\sqrt[n]{4 \\cdot P(w_2 | <start>) \\cdot 0.5^{n-2} \\cdot P(<end> | w_{n-1})}) = log(\\sqrt[n]{4 \\cdot p \\cdot 0.5^{n-2}})$, $p = P(w_2 | <start>) \\cdot P(<end> | w_{n-1})$"
   ]
  },
  {
   "cell_type": "markdown",
   "id": "19ad3f90",
   "metadata": {},
   "source": [
    "### максимум достигается при $n = argmax p$ : $p \\leq max(P(w_2 | <start>)) \\cdot max(P(<end> | w_{n-1})) = 0.28 \\cdot 0.1 = 0.028$, достигается при $n=7$ и предложение получается \"start машинный обучение невозможно без статистики end\", это и есть предложение с наибольшим score"
   ]
  }
 ],
 "metadata": {
  "kernelspec": {
   "display_name": "Python 3 (ipykernel)",
   "language": "python",
   "name": "python3"
  },
  "language_info": {
   "codemirror_mode": {
    "name": "ipython",
    "version": 3
   },
   "file_extension": ".py",
   "mimetype": "text/x-python",
   "name": "python",
   "nbconvert_exporter": "python",
   "pygments_lexer": "ipython3",
   "version": "3.9.7"
  }
 },
 "nbformat": 4,
 "nbformat_minor": 5
}
