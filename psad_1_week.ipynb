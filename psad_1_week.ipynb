{
 "cells": [
  {
   "cell_type": "code",
   "execution_count": 1,
   "id": "46a2bbe3",
   "metadata": {},
   "outputs": [],
   "source": [
    "import numpy as np\n",
    "import matplotlib.pylab as plt\n",
    "from matplotlib import gridspec\n",
    "import pandas as pd\n",
    "import scipy.stats as st\n",
    "import seaborn as sns"
   ]
  },
  {
   "cell_type": "code",
   "execution_count": 5,
   "id": "0b800e02",
   "metadata": {},
   "outputs": [],
   "source": [
    "data = pd.read_csv('https://raw.githubusercontent.com/Intelligent-Systems-Phystech/psad/master/hometask/sem1/v.csv', header=None)\n",
    "data_numpy = data.to_numpy().flatten()"
   ]
  },
  {
   "cell_type": "code",
   "execution_count": 19,
   "id": "ced1bb82",
   "metadata": {},
   "outputs": [
    {
     "name": "stdout",
     "output_type": "stream",
     "text": [
      "median=-0.5\n"
     ]
    }
   ],
   "source": [
    "#Медиана\n",
    "print('median={}'.format(np.median(data_numpy)))"
   ]
  },
  {
   "cell_type": "code",
   "execution_count": 20,
   "id": "b13f7799",
   "metadata": {},
   "outputs": [
    {
     "name": "stdout",
     "output_type": "stream",
     "text": [
      "meadian=125.0\n"
     ]
    }
   ],
   "source": [
    "#Медиана для не отрицательных\n",
    "print('meadian={}'.format(np.median(data_numpy[data_numpy >= 0])))"
   ]
  },
  {
   "cell_type": "code",
   "execution_count": 11,
   "id": "272e48d7",
   "metadata": {},
   "outputs": [
    {
     "name": "stdout",
     "output_type": "stream",
     "text": [
      "var=21209.671215631697\n"
     ]
    }
   ],
   "source": [
    "#Несмещенная дисперсия\n",
    "print('var={}'.format(np.var(data_numpy, ddof = 1)))"
   ]
  },
  {
   "cell_type": "code",
   "execution_count": 15,
   "id": "cc49f637",
   "metadata": {},
   "outputs": [
    {
     "name": "stdout",
     "output_type": "stream",
     "text": [
      "AVG=-0.41052212036667995\n"
     ]
    }
   ],
   "source": [
    "#Среднее\n",
    "print('AVG={}'.format(np.average(data_numpy)))"
   ]
  },
  {
   "cell_type": "code",
   "execution_count": 31,
   "id": "ff742b37",
   "metadata": {},
   "outputs": [
    {
     "name": "stdout",
     "output_type": "stream",
     "text": [
      "max_mode = 54.0\n",
      "count_of_modes = 3\n"
     ]
    }
   ],
   "source": [
    "#Максимальная мода и число мод\n",
    "vals, counts = np.unique(data_numpy, return_counts=True)\n",
    "mode_values = np.argwhere(counts == np.max(counts))\n",
    "modes = vals[mode_values].flatten()\n",
    "\n",
    "print('max_mode = {}'.format(max(modes)))\n",
    "print('count_of_modes = {}'.format(len(modes)))"
   ]
  },
  {
   "cell_type": "code",
   "execution_count": 42,
   "id": "995cdde8",
   "metadata": {},
   "outputs": [
    {
     "name": "stdout",
     "output_type": "stream",
     "text": [
      "The 42-th order statistic is -248.0:\n"
     ]
    }
   ],
   "source": [
    "#42 порядковая статистика\n",
    "print('The 42-th order statistic is {}:'.format(np.partition(np.asarray(data_numpy), 41)[41]))"
   ]
  }
 ],
 "metadata": {
  "kernelspec": {
   "display_name": "Python 3 (ipykernel)",
   "language": "python",
   "name": "python3"
  },
  "language_info": {
   "codemirror_mode": {
    "name": "ipython",
    "version": 3
   },
   "file_extension": ".py",
   "mimetype": "text/x-python",
   "name": "python",
   "nbconvert_exporter": "python",
   "pygments_lexer": "ipython3",
   "version": "3.9.7"
  }
 },
 "nbformat": 4,
 "nbformat_minor": 5
}
