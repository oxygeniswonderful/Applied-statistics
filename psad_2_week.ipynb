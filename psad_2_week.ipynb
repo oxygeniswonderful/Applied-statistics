{
 "cells": [
  {
   "cell_type": "code",
   "execution_count": 90,
   "id": "659095c5",
   "metadata": {},
   "outputs": [],
   "source": [
    "import numpy as np\n",
    "import pandas as pd\n",
    "import scipy.stats as st\n",
    "import seaborn as sns\n",
    "import matplotlib.pyplot as plt\n",
    "import statistics"
   ]
  },
  {
   "cell_type": "code",
   "execution_count": 91,
   "id": "9969d0d4",
   "metadata": {},
   "outputs": [],
   "source": [
    "data = pd.read_csv('https://raw.githubusercontent.com/Intelligent-Systems-Phystech/psad/master/hometask/sem2/v.csv',\n",
    "                   header = None)\n",
    "data_numpy = data.to_numpy().flatten()"
   ]
  },
  {
   "cell_type": "code",
   "execution_count": 92,
   "id": "0d6c024d",
   "metadata": {},
   "outputs": [
    {
     "name": "stdout",
     "output_type": "stream",
     "text": [
      "Выборочное среднее 0.33\n"
     ]
    }
   ],
   "source": [
    "#Выборочное среднее\n",
    "print(\"Выборочное среднее {:.2}\".format(data_numpy.mean()))"
   ]
  },
  {
   "cell_type": "code",
   "execution_count": 93,
   "id": "cbf271dd",
   "metadata": {},
   "outputs": [
    {
     "name": "stdout",
     "output_type": "stream",
     "text": [
      "Оценка стандартного отклонения (несмещенная) 1.2\n"
     ]
    }
   ],
   "source": [
    "#Оценка стандартного отклонения (несмещенная)\n",
    "print(\"Оценка стандартного отклонения (несмещенная) {:.2}\"\n",
    "      .format(statistics.stdev(data_numpy)*(len(data_numpy) / (len(data_numpy) - 1))**0.5))"
   ]
  },
  {
   "cell_type": "code",
   "execution_count": 94,
   "id": "734d3f7d",
   "metadata": {},
   "outputs": [
    {
     "name": "stdout",
     "output_type": "stream",
     "text": [
      "Не противоречит гипотезе нормальности 0.5390914661622249\n"
     ]
    }
   ],
   "source": [
    "#Можно ли отклонить гипотезу о нормальности выборки, используя критерий Харке-Бера (p<=0.05)?\n",
    "statistic, pvalue = st.jarque_bera(data_numpy)\n",
    "if pvalue <= 0.05:\n",
    "    print(\"Отвергаем гипотезу нормальности\", pvalue)\n",
    "else:\n",
    "    print(\"Не противоречит гипотезе нормальности\", pvalue)"
   ]
  },
  {
   "cell_type": "code",
   "execution_count": 95,
   "id": "09162513",
   "metadata": {},
   "outputs": [
    {
     "name": "stdout",
     "output_type": "stream",
     "text": [
      "Не противоречит гипотезе нормальности 0.2025759220123291\n"
     ]
    }
   ],
   "source": [
    "#Можно ли отклонить гипотезу о нормальности выборки, используя критерий Шапиро-Уилка (p<=0.05)?\n",
    "statistic, pvalue = st.shapiro(data_numpy)\n",
    "if pvalue <= 0.05:\n",
    "    print(\"Отвергаем гипотезу нормальности\", pvalue)\n",
    "else:\n",
    "    print(\"Не противоречит гипотезе нормальности\", pvalue)"
   ]
  },
  {
   "cell_type": "code",
   "execution_count": 96,
   "id": "2240b57e",
   "metadata": {},
   "outputs": [
    {
     "data": {
      "text/plain": [
       "array([1., 0., 1., 1., 1., 1., 1., 0., 0., 1., 1., 0., 1., 0., 1., 1., 0.,\n",
       "       0., 0., 0., 1., 1., 0., 0., 0., 0., 1., 0., 0., 1., 1., 0., 0., 1.,\n",
       "       0., 1., 0., 0., 0., 0., 1., 1., 1., 1., 0., 0., 1., 1., 1., 1., 1.,\n",
       "       1., 0., 1., 0., 1., 1., 1., 1., 1., 0., 1., 1., 1., 1., 1., 1., 1.,\n",
       "       0., 1., 1., 1., 0., 1., 1., 1., 1., 0., 1., 1., 0., 0., 1., 1., 0.,\n",
       "       1., 1., 0., 1., 0., 1., 1., 0., 1., 1., 1., 1., 1., 0., 0.])"
      ]
     },
     "execution_count": 96,
     "metadata": {},
     "output_type": "execute_result"
    }
   ],
   "source": [
    "#бинаризация\n",
    "data_numpy[data_numpy < 0] = 0\n",
    "data_numpy[data_numpy > 0] = 1\n",
    "data_numpy"
   ]
  },
  {
   "cell_type": "code",
   "execution_count": 105,
   "id": "b27aafdc",
   "metadata": {},
   "outputs": [
    {
     "name": "stdout",
     "output_type": "stream",
     "text": [
      "Сумма единиц в бинарной выборке 62.0\n"
     ]
    }
   ],
   "source": [
    "#Cумма единиц в бинарной выборке\n",
    "binsum = data_numpy.sum()\n",
    "print(\"Сумма единиц в бинарной выборке {}\".format(data_numpy.sum()))"
   ]
  },
  {
   "cell_type": "code",
   "execution_count": 106,
   "id": "8492e579",
   "metadata": {},
   "outputs": [
    {
     "data": {
      "text/plain": [
       "0.02097873567785172"
      ]
     },
     "execution_count": 106,
     "metadata": {},
     "output_type": "execute_result"
    }
   ],
   "source": [
    "#Значение p-value для биномиального теста с двусторонней альтернативой (p0 = 0.5)\n",
    "st.binom_test(binsum, data_numpy.shape[0], p = 0.5, alternative='two-sided')"
   ]
  },
  {
   "cell_type": "code",
   "execution_count": 119,
   "id": "533eeabd",
   "metadata": {},
   "outputs": [
    {
     "name": "stdout",
     "output_type": "stream",
     "text": [
      "LR = 5.816610799167459\n"
     ]
    }
   ],
   "source": [
    "#Статистика для критерия отношения правдоподобия\n",
    "#L1 - функция правдоподобия для бернулли при p = 0.5\n",
    "#L2 - функция правдоподобия для бернулли при p = ОМП\n",
    "L1 = st.bernoulli.pmf(data_numpy, p = 0.5).prod()\n",
    "L2 = st.bernoulli.pmf(data_numpy, p = (binsum / data_numpy.shape[0])).prod()\n",
    "LR = -2 * np.log(L1/L2)\n",
    "print('LR = {}'.format(LR))"
   ]
  }
 ],
 "metadata": {
  "kernelspec": {
   "display_name": "Python 3 (ipykernel)",
   "language": "python",
   "name": "python3"
  },
  "language_info": {
   "codemirror_mode": {
    "name": "ipython",
    "version": 3
   },
   "file_extension": ".py",
   "mimetype": "text/x-python",
   "name": "python",
   "nbconvert_exporter": "python",
   "pygments_lexer": "ipython3",
   "version": "3.9.7"
  }
 },
 "nbformat": 4,
 "nbformat_minor": 5
}
