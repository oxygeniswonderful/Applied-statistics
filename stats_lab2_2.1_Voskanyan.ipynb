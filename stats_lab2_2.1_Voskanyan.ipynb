{
 "cells": [
  {
   "cell_type": "code",
   "execution_count": 46,
   "id": "0dfb61d0",
   "metadata": {},
   "outputs": [],
   "source": [
    "import pandas as pd\n",
    "import numpy as np\n",
    "import scipy\n",
    "import scipy.stats as st\n",
    "import sprt"
   ]
  },
  {
   "cell_type": "code",
   "execution_count": 20,
   "id": "d121c5a3",
   "metadata": {},
   "outputs": [
    {
     "data": {
      "text/html": [
       "<div>\n",
       "<style scoped>\n",
       "    .dataframe tbody tr th:only-of-type {\n",
       "        vertical-align: middle;\n",
       "    }\n",
       "\n",
       "    .dataframe tbody tr th {\n",
       "        vertical-align: top;\n",
       "    }\n",
       "\n",
       "    .dataframe thead th {\n",
       "        text-align: right;\n",
       "    }\n",
       "</style>\n",
       "<table border=\"1\" class=\"dataframe\">\n",
       "  <thead>\n",
       "    <tr style=\"text-align: right;\">\n",
       "      <th></th>\n",
       "      <th>with vaccine</th>\n",
       "      <th>without vaccine</th>\n",
       "    </tr>\n",
       "  </thead>\n",
       "  <tbody>\n",
       "    <tr>\n",
       "      <th>0</th>\n",
       "      <td>h</td>\n",
       "      <td>h</td>\n",
       "    </tr>\n",
       "    <tr>\n",
       "      <th>1</th>\n",
       "      <td>h</td>\n",
       "      <td>s</td>\n",
       "    </tr>\n",
       "    <tr>\n",
       "      <th>2</th>\n",
       "      <td>h</td>\n",
       "      <td>s</td>\n",
       "    </tr>\n",
       "    <tr>\n",
       "      <th>3</th>\n",
       "      <td>h</td>\n",
       "      <td>h</td>\n",
       "    </tr>\n",
       "    <tr>\n",
       "      <th>4</th>\n",
       "      <td>h</td>\n",
       "      <td>h</td>\n",
       "    </tr>\n",
       "    <tr>\n",
       "      <th>5</th>\n",
       "      <td>h</td>\n",
       "      <td>s</td>\n",
       "    </tr>\n",
       "    <tr>\n",
       "      <th>6</th>\n",
       "      <td>h</td>\n",
       "      <td>h</td>\n",
       "    </tr>\n",
       "    <tr>\n",
       "      <th>7</th>\n",
       "      <td>h</td>\n",
       "      <td>s</td>\n",
       "    </tr>\n",
       "    <tr>\n",
       "      <th>8</th>\n",
       "      <td>h</td>\n",
       "      <td>s</td>\n",
       "    </tr>\n",
       "    <tr>\n",
       "      <th>9</th>\n",
       "      <td>h</td>\n",
       "      <td>s</td>\n",
       "    </tr>\n",
       "    <tr>\n",
       "      <th>10</th>\n",
       "      <td>s</td>\n",
       "      <td>s</td>\n",
       "    </tr>\n",
       "    <tr>\n",
       "      <th>11</th>\n",
       "      <td>h</td>\n",
       "      <td>h</td>\n",
       "    </tr>\n",
       "    <tr>\n",
       "      <th>12</th>\n",
       "      <td>h</td>\n",
       "      <td>s</td>\n",
       "    </tr>\n",
       "    <tr>\n",
       "      <th>13</th>\n",
       "      <td>h</td>\n",
       "      <td>h</td>\n",
       "    </tr>\n",
       "    <tr>\n",
       "      <th>14</th>\n",
       "      <td>h</td>\n",
       "      <td>h</td>\n",
       "    </tr>\n",
       "    <tr>\n",
       "      <th>15</th>\n",
       "      <td>h</td>\n",
       "      <td>s</td>\n",
       "    </tr>\n",
       "    <tr>\n",
       "      <th>16</th>\n",
       "      <td>h</td>\n",
       "      <td>h</td>\n",
       "    </tr>\n",
       "    <tr>\n",
       "      <th>17</th>\n",
       "      <td>s</td>\n",
       "      <td>h</td>\n",
       "    </tr>\n",
       "    <tr>\n",
       "      <th>18</th>\n",
       "      <td>h</td>\n",
       "      <td>s</td>\n",
       "    </tr>\n",
       "    <tr>\n",
       "      <th>19</th>\n",
       "      <td>h</td>\n",
       "      <td>h</td>\n",
       "    </tr>\n",
       "    <tr>\n",
       "      <th>20</th>\n",
       "      <td>h</td>\n",
       "      <td>s</td>\n",
       "    </tr>\n",
       "    <tr>\n",
       "      <th>21</th>\n",
       "      <td>h</td>\n",
       "      <td>h</td>\n",
       "    </tr>\n",
       "    <tr>\n",
       "      <th>22</th>\n",
       "      <td>h</td>\n",
       "      <td>h</td>\n",
       "    </tr>\n",
       "    <tr>\n",
       "      <th>23</th>\n",
       "      <td>h</td>\n",
       "      <td>h</td>\n",
       "    </tr>\n",
       "    <tr>\n",
       "      <th>24</th>\n",
       "      <td>s</td>\n",
       "      <td>s</td>\n",
       "    </tr>\n",
       "    <tr>\n",
       "      <th>25</th>\n",
       "      <td>h</td>\n",
       "      <td>s</td>\n",
       "    </tr>\n",
       "    <tr>\n",
       "      <th>26</th>\n",
       "      <td>s</td>\n",
       "      <td>s</td>\n",
       "    </tr>\n",
       "    <tr>\n",
       "      <th>27</th>\n",
       "      <td>h</td>\n",
       "      <td>s</td>\n",
       "    </tr>\n",
       "    <tr>\n",
       "      <th>28</th>\n",
       "      <td>h</td>\n",
       "      <td>h</td>\n",
       "    </tr>\n",
       "    <tr>\n",
       "      <th>29</th>\n",
       "      <td>s</td>\n",
       "      <td>s</td>\n",
       "    </tr>\n",
       "  </tbody>\n",
       "</table>\n",
       "</div>"
      ],
      "text/plain": [
       "   with vaccine without vaccine\n",
       "0             h               h\n",
       "1             h               s\n",
       "2             h               s\n",
       "3             h               h\n",
       "4             h               h\n",
       "5             h               s\n",
       "6             h               h\n",
       "7             h               s\n",
       "8             h               s\n",
       "9             h               s\n",
       "10            s               s\n",
       "11            h               h\n",
       "12            h               s\n",
       "13            h               h\n",
       "14            h               h\n",
       "15            h               s\n",
       "16            h               h\n",
       "17            s               h\n",
       "18            h               s\n",
       "19            h               h\n",
       "20            h               s\n",
       "21            h               h\n",
       "22            h               h\n",
       "23            h               h\n",
       "24            s               s\n",
       "25            h               s\n",
       "26            s               s\n",
       "27            h               s\n",
       "28            h               h\n",
       "29            s               s"
      ]
     },
     "execution_count": 20,
     "metadata": {},
     "output_type": "execute_result"
    }
   ],
   "source": [
    "data = pd.read_csv(\"https://raw.githubusercontent.com/Intelligent-Systems-Phystech/psad/master/labs/lab2/data/2.1.csv\")\n",
    "data"
   ]
  },
  {
   "cell_type": "code",
   "execution_count": 15,
   "id": "a1d8b246",
   "metadata": {},
   "outputs": [
    {
     "data": {
      "text/html": [
       "<div>\n",
       "<style scoped>\n",
       "    .dataframe tbody tr th:only-of-type {\n",
       "        vertical-align: middle;\n",
       "    }\n",
       "\n",
       "    .dataframe tbody tr th {\n",
       "        vertical-align: top;\n",
       "    }\n",
       "\n",
       "    .dataframe thead th {\n",
       "        text-align: right;\n",
       "    }\n",
       "</style>\n",
       "<table border=\"1\" class=\"dataframe\">\n",
       "  <thead>\n",
       "    <tr style=\"text-align: right;\">\n",
       "      <th></th>\n",
       "      <th>with vaccine</th>\n",
       "      <th>without vaccine</th>\n",
       "    </tr>\n",
       "  </thead>\n",
       "  <tbody>\n",
       "    <tr>\n",
       "      <th>count</th>\n",
       "      <td>30</td>\n",
       "      <td>30</td>\n",
       "    </tr>\n",
       "    <tr>\n",
       "      <th>unique</th>\n",
       "      <td>2</td>\n",
       "      <td>2</td>\n",
       "    </tr>\n",
       "    <tr>\n",
       "      <th>top</th>\n",
       "      <td>h</td>\n",
       "      <td>s</td>\n",
       "    </tr>\n",
       "    <tr>\n",
       "      <th>freq</th>\n",
       "      <td>25</td>\n",
       "      <td>16</td>\n",
       "    </tr>\n",
       "  </tbody>\n",
       "</table>\n",
       "</div>"
      ],
      "text/plain": [
       "       with vaccine without vaccine\n",
       "count            30              30\n",
       "unique            2               2\n",
       "top               h               s\n",
       "freq             25              16"
      ]
     },
     "execution_count": 15,
     "metadata": {},
     "output_type": "execute_result"
    }
   ],
   "source": [
    "data.describe()"
   ]
  },
  {
   "cell_type": "markdown",
   "id": "69b60eab",
   "metadata": {},
   "source": [
    "### Запишем задачу формально :\n",
    "$H_0$ : Вероятность заразиться у человека с вакциной меньше, чем у человека без вакцины $\\\\$\n",
    "$H_1$ : наоборот(Вероятность заразиться у человека с вакциной больше либо равна, чем у человека без вакцины"
   ]
  },
  {
   "cell_type": "markdown",
   "id": "e1dcc242",
   "metadata": {},
   "source": [
    "#### введём обозначения : \n",
    "$p_u$ -- верхняя граница $\\\\$\n",
    "$p_d$ -- нижняя граница \n"
   ]
  },
  {
   "cell_type": "markdown",
   "id": "c7a6d988",
   "metadata": {},
   "source": [
    "$\\alpha$ -- уровень значимости(допускаемая вероятность ошибки первого рода) отвергнуть верную гипотезу $H_0 (p \\leq p_d) \\\\$\n",
    "$\\beta$ -- допускаемая вероятность ошибки второго рода принять неверную гипотезу $H_0 (p_u \\leq p)$"
   ]
  },
  {
   "cell_type": "markdown",
   "id": "782f9694",
   "metadata": {},
   "source": [
    "#### $H_0 : p \\leq p_d$"
   ]
  },
  {
   "cell_type": "markdown",
   "id": "4da9ec8f",
   "metadata": {},
   "source": [
    "#### $H_1 : p_u \\leq p$"
   ]
  },
  {
   "cell_type": "markdown",
   "id": "21b7c9b3",
   "metadata": {},
   "source": [
    "### Выборки : "
   ]
  },
  {
   "cell_type": "markdown",
   "id": "341e2808",
   "metadata": {},
   "source": [
    "#### $X^{30} = (X_{1}, X_{2},...,X_{30})$"
   ]
  },
  {
   "cell_type": "markdown",
   "id": "a9507282",
   "metadata": {},
   "source": [
    "#### $Y^{30} = (Y_{1}, Y_{2},...,Y_{30})$"
   ]
  },
  {
   "cell_type": "markdown",
   "id": "dcf3090c",
   "metadata": {},
   "source": [
    "### Статистика"
   ]
  },
  {
   "cell_type": "markdown",
   "id": "6584db0d",
   "metadata": {},
   "source": [
    "#### $ d_m(X^{30}, Y^{30}) = \\sum_{i=1}^{30} (1-X_{i}) Y_{i} $"
   ]
  },
  {
   "cell_type": "markdown",
   "id": "5b87dee0",
   "metadata": {},
   "source": [
    "### Пусть $A = \\frac{1-\\beta}{\\alpha}$"
   ]
  },
  {
   "cell_type": "markdown",
   "id": "8f674478",
   "metadata": {},
   "source": [
    "###  $B = \\frac{\\beta}{1-\\alpha}$"
   ]
  },
  {
   "cell_type": "markdown",
   "id": "f5920475",
   "metadata": {},
   "source": [
    "### $ p = \\frac{1-(\\frac{1-p_u}{1-p_d})^x}{(\\frac{p_u}{p_d})^x - (\\frac{1-p_u}{1-p_d})^x}$"
   ]
  },
  {
   "cell_type": "markdown",
   "id": "15069f34",
   "metadata": {},
   "source": [
    "### $z$ -- решение уравнения"
   ]
  },
  {
   "cell_type": "markdown",
   "id": "e07e0ebf",
   "metadata": {},
   "source": [
    "### Оперативная характеристика $L = \\frac{A^z - 1}{A^z - B^z}$"
   ]
  },
  {
   "cell_type": "markdown",
   "id": "a7930148",
   "metadata": {},
   "source": [
    "### Мат. Ожидание : $E = \\frac{L \\cdot log(B) + (1-L) \\cdot log(A)}{p \\cdot log(\\frac{p}{p_0}) + (1-p) \\cdot log(\\frac{1-p}{1-p_0})}$"
   ]
  },
  {
   "cell_type": "markdown",
   "id": "f4e60827",
   "metadata": {},
   "source": [
    "### (По сути используем критерий Вальда)"
   ]
  },
  {
   "cell_type": "code",
   "execution_count": 39,
   "id": "4f4f8ba4",
   "metadata": {},
   "outputs": [
    {
     "name": "stdout",
     "output_type": "stream",
     "text": [
      "Математическое ожидание числа итераций: 8\n"
     ]
    }
   ],
   "source": [
    "alpha = 0.05\n",
    "beta = 0.2\n",
    "p1 = 0.2\n",
    "p2 = 0.5\n",
    "\n",
    "def E(p, p_0, alpha, beta, z):\n",
    "    A = (1 - beta) / alpha\n",
    "    B = beta / (1 - alpha)\n",
    "    L = (A**z - 1)/(A**z - B**z)\n",
    "    return (L * np.log(B) + (1 - L) * np.log(A))/ (p * np.log(p / p_0) + (1 - p) * np.log((1 - p) / ( 1 - p_0)))\n",
    "\n",
    "f = lambda x : (1 - ((1 - p2) / (1 - p1))**x) / ((p2 / p1)**x - ((1 - p2) / (1 - p1))**x) - p2\n",
    "\n",
    "solution = scipy.optimize.root_scalar(f, bracket=[-10, 10], method='brentq')\n",
    "print(\"Математическое ожидание числа итераций: {}\".format(int(E(p2, p1, alpha, beta, solution.root))))"
   ]
  },
  {
   "cell_type": "markdown",
   "id": "23c73a0d",
   "metadata": {},
   "source": [
    "### Воспользуемся последовательным критерием Вальда для оценки среднего количества дней(ошибки первого и второго рода фиксированы)"
   ]
  },
  {
   "cell_type": "markdown",
   "id": "06aaf79d",
   "metadata": {},
   "source": [
    "### $\\forall i : data[i][0] > data[i][1] \\leftrightarrow$  человек с вакционой с меньшей вероятностью заразиться чем человек без неё"
   ]
  },
  {
   "cell_type": "code",
   "execution_count": 50,
   "id": "37378570",
   "metadata": {},
   "outputs": [],
   "source": [
    "tmp = (data.values == 'h').astype(int)\n",
    "values = (tmp[:, 0] > tmp[:, 1])"
   ]
  },
  {
   "cell_type": "markdown",
   "id": "8fa08bc3",
   "metadata": {},
   "source": [
    "### Формально задачу после преобразования данных можно записать так : найти минимальный шаг, при котором мы покинем область безразличия."
   ]
  },
  {
   "cell_type": "code",
   "execution_count": 48,
   "id": "49ea6970",
   "metadata": {},
   "outputs": [
    {
     "name": "stdout",
     "output_type": "stream",
     "text": [
      "Decision:\tContinue\n",
      "\n",
      "    values  lower   upper\n",
      "n                        \n",
      "21      10  5.996   9.120\n",
      "22      10  6.335   9.459\n",
      "23      10  6.674   9.798\n",
      "24      10  7.013  10.137\n",
      "25      10  7.352  10.476\n",
      "26      11  7.691  10.815\n",
      "27      11  8.030  11.154\n",
      "28      12  8.369  11.493\n",
      "29      12  8.708  11.832\n",
      "30      12  9.047  12.171\n"
     ]
    },
    {
     "data": {
      "image/png": "[encoded data removed]",
      "text/plain": [
       "<Figure size 576x432 with 1 Axes>"
      ]
     },
     "metadata": {
      "needs_background": "light"
     },
     "output_type": "display_data"
    }
   ],
   "source": [
    "test = sprt.SPRTBinomial(alpha=alpha, beta=beta, h0=p1, h1=p2, values=values)\n",
    "test.plot()"
   ]
  },
  {
   "cell_type": "markdown",
   "id": "f094a9fe",
   "metadata": {},
   "source": [
    "### Из графика видно, что в районе 10 дней  находится искомый минимум количества дней для вынесения решения по данной гипотезе"
   ]
  },
  {
   "cell_type": "markdown",
   "id": "edf66550",
   "metadata": {},
   "source": [
    "### Посмотрим на срез из первых 10 дней"
   ]
  },
  {
   "cell_type": "code",
   "execution_count": 49,
   "id": "54e16912",
   "metadata": {},
   "outputs": [
    {
     "name": "stdout",
     "output_type": "stream",
     "text": [
      "Decision:\tReject\n",
      "\n",
      "    values  lower  upper\n",
      "n                       \n",
      "1        0 -0.785  2.339\n",
      "2        1 -0.446  2.678\n",
      "3        2 -0.107  3.017\n",
      "4        2  0.232  3.356\n",
      "5        2  0.571  3.695\n",
      "6        3  0.910  4.034\n",
      "7        3  1.249  4.373\n",
      "8        4  1.588  4.712\n",
      "9        5  1.927  5.051\n",
      "10       6  2.266  5.390\n"
     ]
    },
    {
     "data": {
      "image/png": "[encoded data removed]",
      "text/plain": [
       "<Figure size 576x432 with 1 Axes>"
      ]
     },
     "metadata": {
      "needs_background": "light"
     },
     "output_type": "display_data"
    }
   ],
   "source": [
    "test = sprt.SPRTBinomial(alpha=alpha, beta=beta, h0=p1, h1=p2, values=values[:10])\n",
    "test.plot()"
   ]
  },
  {
   "cell_type": "markdown",
   "id": "a8d3736e",
   "metadata": {},
   "source": [
    "### И действительно потребуется 10 дней для тестирования, так как уже на 10ом дне мы попадаем в область, в которой гипотеза отклоняется, что означает неработоспособность вакцины, что происходит далее нам не интересно, несмотря на то, что мы далее опять возвращаемся в белую зону(область безразличия), поскольку эти эксперименты в реальности мы не проведем уже"
   ]
  },
  {
   "cell_type": "code",
   "execution_count": null,
   "id": "4378504f",
   "metadata": {},
   "outputs": [],
   "source": []
  }
 ],
 "metadata": {
  "kernelspec": {
   "display_name": "Python 3 (ipykernel)",
   "language": "python",
   "name": "python3"
  },
  "language_info": {
   "codemirror_mode": {
    "name": "ipython",
    "version": 3
   },
   "file_extension": ".py",
   "mimetype": "text/x-python",
   "name": "python",
   "nbconvert_exporter": "python",
   "pygments_lexer": "ipython3",
   "version": "3.9.7"
  }
 },
 "nbformat": 4,
 "nbformat_minor": 5
}
